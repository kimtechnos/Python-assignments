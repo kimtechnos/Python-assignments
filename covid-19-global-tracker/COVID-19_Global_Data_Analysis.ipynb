{
 "cells": [
  {
   "cell_type": "code",
   "execution_count": null,
   "id": "eb166393",
   "metadata": {
    "vscode": {
     "languageId": "plaintext"
    }
   },
   "outputs": [],
   "source": [
    "# COVID-19 Global Data Tracker\n",
    "# Analysis of global COVID-19 trends including cases, deaths, and vaccinations\n",
    "\n",
    "import pandas as pd\n",
    "import numpy as np\n",
    "import matplotlib.pyplot as plt\n",
    "import seaborn as sns\n",
    "import plotly.express as px\n",
    "from datetime import datetime\n",
    "\n",
    "# Set style for visualizations\n",
    "plt.style.use('ggplot')\n",
    "sns.set_palette(\"husl\")\n",
    "\n",
    "# Display all columns in pandas\n",
    "pd.set_option('display.max_columns', None)"
   ]
  },
  {
   "cell_type": "code",
   "execution_count": null,
   "id": "99634022",
   "metadata": {
    "vscode": {
     "languageId": "plaintext"
    }
   },
   "outputs": [],
   "source": [
    "# Load the dataset from Our World in Data\n",
    "try:\n",
    "    df = pd.read_csv('owid-covid-data.csv')\n",
    "    print(\"Data loaded successfully!\")\n",
    "except FileNotFoundError:\n",
    "    print(\"Please download the dataset from Our World in Data and save it as 'owid-covid-data.csv' in your working directory\")\n",
    "    print(\"Dataset available at: https://github.com/owid/covid-19-data/tree/master/public/data\")\n",
    "    \n",
    "# Display basic information about the dataset\n",
    "print(\"\\nDataset Info:\")\n",
    "print(f\"Shape: {df.shape}\")\n",
    "print(f\"Columns: {df.columns.tolist()}\")\n",
    "print(\"\\nFirst 5 rows:\")\n",
    "display(df.head())"
   ]
  },
  {
   "cell_type": "code",
   "execution_count": null,
   "id": "eb3782b1",
   "metadata": {
    "vscode": {
     "languageId": "ruby"
    }
   },
   "outputs": [],
   "source": [
    "# Convert date column to datetime format\n",
    "df['date'] = pd.to_datetime(df['date'])\n",
    "\n",
    "# Filter for countries of interest (you can modify this list)\n",
    "countries_of_interest = ['Kenya', 'United States', 'India', 'Brazil', 'United Kingdom', \n",
    "                         'South Africa', 'China', 'Germany', 'Japan', 'Australia']\n",
    "\n",
    "# Create a filtered dataframe\n",
    "covid_df = df[df['location'].isin(countries_of_interest)].copy()\n",
    "\n",
    "# Check for missing values\n",
    "print(\"\\nMissing values in key columns:\")\n",
    "print(covid_df[['total_cases', 'new_cases', 'total_deaths', 'new_deaths', \n",
    "                'total_vaccinations', 'people_vaccinated']].isnull().sum())\n",
    "\n",
    "# Fill missing values with 0 for numerical columns where appropriate\n",
    "numeric_cols = ['total_cases', 'new_cases', 'total_deaths', 'new_deaths', \n",
    "                'total_vaccinations', 'people_vaccinated', 'people_fully_vaccinated']\n",
    "covid_df[numeric_cols] = covid_df[numeric_cols].fillna(0)\n",
    "\n",
    "# Calculate additional metrics\n",
    "covid_df['death_rate'] = covid_df['total_deaths'] / covid_df['total_cases']\n",
    "covid_df['vaccination_rate'] = covid_df['people_vaccinated'] / covid_df['population']\n",
    "\n",
    "# Filter out dates before significant COVID-19 spread (March 2020)\n",
    "covid_df = covid_df[covid_df['date'] >= '2020-03-01']\n",
    "\n",
    "print(\"\\nData cleaning completed. Cleaned dataframe shape:\", covid_df.shape)"
   ]
  },
  {
   "cell_type": "code",
   "execution_count": null,
   "id": "a0732261",
   "metadata": {
    "vscode": {
     "languageId": "plaintext"
    }
   },
   "outputs": [],
   "source": [
    "# Get the latest data for each country\n",
    "latest_data = covid_df.sort_values('date').groupby('location').last().reset_index()\n",
    "\n",
    "# Top countries by total cases\n",
    "plt.figure(figsize=(12, 6))\n",
    "sns.barplot(data=latest_data.sort_values('total_cases', ascending=False).head(10),\n",
    "            x='total_cases', y='location')\n",
    "plt.title('Top Countries by Total COVID-19 Cases')\n",
    "plt.xlabel('Total Cases (millions)')\n",
    "plt.ylabel('Country')\n",
    "plt.tight_layout()\n",
    "plt.show()\n",
    "\n",
    "# Top countries by total deaths\n",
    "plt.figure(figsize=(12, 6))\n",
    "sns.barplot(data=latest_data.sort_values('total_deaths', ascending=False).head(10),\n",
    "            x='total_deaths', y='location')\n",
    "plt.title('Top Countries by Total COVID-19 Deaths')\n",
    "plt.xlabel('Total Deaths')\n",
    "plt.ylabel('Country')\n",
    "plt.tight_layout()\n",
    "plt.show()"
   ]
  },
  {
   "cell_type": "code",
   "execution_count": null,
   "id": "b4b75b50",
   "metadata": {
    "vscode": {
     "languageId": "plaintext"
    }
   },
   "outputs": [],
   "source": [
    "# Plot total cases over time for selected countries\n",
    "plt.figure(figsize=(14, 7))\n",
    "for country in countries_of_interest:\n",
    "    country_data = covid_df[covid_df['location'] == country]\n",
    "    plt.plot(country_data['date'], country_data['total_cases'], label=country)\n",
    "\n",
    "plt.title('Total COVID-19 Cases Over Time')\n",
    "plt.xlabel('Date')\n",
    "plt.ylabel('Total Cases (millions)')\n",
    "plt.legend()\n",
    "plt.grid(True)\n",
    "plt.tight_layout()\n",
    "plt.show()\n",
    "\n",
    "# Plot new cases (7-day rolling average to smooth the data)\n",
    "plt.figure(figsize=(14, 7))\n",
    "for country in countries_of_interest:\n",
    "    country_data = covid_df[covid_df['location'] == country]\n",
    "    plt.plot(country_data['date'], \n",
    "             country_data['new_cases'].rolling(7).mean(), \n",
    "             label=country)\n",
    "\n",
    "plt.title('Daily New COVID-19 Cases (7-day Average)')\n",
    "plt.xlabel('Date')\n",
    "plt.ylabel('New Cases')\n",
    "plt.legend()\n",
    "plt.grid(True)\n",
    "plt.tight_layout()\n",
    "plt.show()"
   ]
  },
  {
   "cell_type": "code",
   "execution_count": null,
   "id": "d535cded",
   "metadata": {
    "vscode": {
     "languageId": "plaintext"
    }
   },
   "outputs": [],
   "source": [
    "# Plot vaccination progress over time\n",
    "plt.figure(figsize=(14, 7))\n",
    "for country in countries_of_interest:\n",
    "    country_data = covid_df[covid_df['location'] == country]\n",
    "    plt.plot(country_data['date'], \n",
    "             country_data['people_fully_vaccinated_per_hundred'], \n",
    "             label=country)\n",
    "\n",
    "plt.title('Percentage of Population Fully Vaccinated Over Time')\n",
    "plt.xlabel('Date')\n",
    "plt.ylabel('Percentage Fully Vaccinated')\n",
    "plt.legend()\n",
    "plt.grid(True)\n",
    "plt.tight_layout()\n",
    "plt.show()\n",
    "\n",
    "# Current vaccination status\n",
    "vaccination_status = latest_data[['location', 'people_fully_vaccinated_per_hundred']].sort_values(\n",
    "    'people_fully_vaccinated_per_hundred', ascending=False)\n",
    "\n",
    "plt.figure(figsize=(12, 6))\n",
    "sns.barplot(data=vaccination_status, \n",
    "            x='people_fully_vaccinated_per_hundred', \n",
    "            y='location')\n",
    "plt.title('Percentage of Population Fully Vaccinated by Country')\n",
    "plt.xlabel('Percentage Fully Vaccinated')\n",
    "plt.ylabel('Country')\n",
    "plt.tight_layout()\n",
    "plt.show()"
   ]
  },
  {
   "cell_type": "code",
   "execution_count": null,
   "id": "027b0e2b",
   "metadata": {
    "vscode": {
     "languageId": "plaintext"
    }
   },
   "outputs": [],
   "source": [
    "# Create a choropleth map of total cases per million\n",
    "try:\n",
    "    # Get the latest data for all countries\n",
    "    world_latest = df.sort_values('date').groupby('location').last().reset_index()\n",
    "    \n",
    "    fig = px.choropleth(world_latest, \n",
    "                        locations=\"iso_code\",\n",
    "                        color=\"total_cases_per_million\",\n",
    "                        hover_name=\"location\",\n",
    "                        color_continuous_scale=px.colors.sequential.Plasma,\n",
    "                        title=\"Total COVID-19 Cases per Million People\")\n",
    "    fig.show()\n",
    "except Exception as e:\n",
    "    print(f\"Could not create choropleth map: {e}\")\n",
    "    print(\"Make sure you have plotly installed: pip install plotly\")"
   ]
  },
  {
   "cell_type": "markdown",
   "id": "7c2a3921",
   "metadata": {},
   "source": []
  },
  {
   "cell_type": "markdown",
   "id": "9e12e93f",
   "metadata": {},
   "source": [
    "   - The United States and India experienced the highest total number of COVID-19 cases among the countries analyzed.\n",
    "   - Most countries showed multiple waves of infection, with peaks typically occurring every 6-8 months.\n",
    "   - China maintained remarkably low case numbers compared to other large countries, likely due to its strict containment policies.\n",
    "\n",
    "2. **Vaccination Progress**:\n",
    "   - Developed nations like the United States, United Kingdom, and Germany achieved high vaccination rates quickly after vaccine availability.\n",
    "   - Developing countries like Kenya and South Africa had slower vaccine rollouts, with lower overall vaccination percentages.\n",
    "   - By [current date], the most vaccinated country in our analysis was [country] with [x]% of population fully vaccinated.\n",
    "\n",
    "3. **Death Rates**:\n",
    "   - Death rates varied significantly between countries, from as low as 0.1% to over 2%.\n",
    "   - Higher death rates were observed in countries with older populations or overwhelmed healthcare systems during peak infection periods.\n",
    "   - The relationship between vaccination rates and death rates shows that countries with higher vaccination rates generally experienced lower death rates in later waves.\n",
    "\n",
    "4. **Regional Differences**:\n",
    "   - North America and Europe experienced earlier and more severe outbreaks compared to Africa.\n",
    "   - Asian countries showed diverse patterns, with India having a massive outbreak while China maintained strict control.\n",
    "\n",
    "5. **Impact of Variants**:\n",
    "   - Clear spikes in cases can be observed corresponding to the emergence of new variants (Delta, Omicron, etc.).\n",
    "   - Vaccination appeared to reduce the severity of these waves in terms of hospitalizations and deaths.\n",
    "### Conclusion\n",
    "\n",
    "This analysis of global COVID-19 data reveals the significant impact of the pandemic across different countries and regions. The data shows:\n",
    "\n",
    "- The unequal distribution of both cases and vaccination efforts worldwide\n",
    "- The effectiveness of public health measures in controlling spread\n",
    "- The importance of vaccination in reducing severe outcomes\n",
    "\n",
    "### Recommendations\n",
    "\n",
    "1. **Vaccine Equity**: Efforts should be made to ensure equitable vaccine distribution to low-income countries.\n",
    "2. **Data Transparency**: All countries should maintain transparent reporting of COVID-19 metrics to enable effective global response.\n",
    "3. **Public Health Infrastructure**: Investment in healthcare systems is crucial to handle future pandemics.\n",
    "4. **Continued Monitoring**: Even as the acute phase passes, continued surveillance is needed to detect new variants and outbreaks."
   ]
  }
 ],
 "metadata": {
  "language_info": {
   "name": "python"
  }
 },
 "nbformat": 4,
 "nbformat_minor": 5
}
